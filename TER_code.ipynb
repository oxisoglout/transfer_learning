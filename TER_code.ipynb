{
  "nbformat": 4,
  "nbformat_minor": 0,
  "metadata": {
    "colab": {
      "provenance": [],
      "gpuType": "T4"
    },
    "kernelspec": {
      "name": "python3",
      "display_name": "Python 3"
    },
    "language_info": {
      "name": "python"
    },
    "accelerator": "GPU"
  },
  "cells": [
    {
      "cell_type": "markdown",
      "source": [
        "<h1> DEEP TRANSFER LEARNING ON MEDICAL IMAGES\n",
        "\n",
        "Research and work carried out by Brizzi Anouk and Oxisoglou Thomas as part of a research project supervised by Mr. Ronan Sicre for the end of the first year of the Master's program at the Faculty of Aix-Marseille, IAAA option.\n",
        "\n",
        "Its aim is to test the transfer learning method on medical image classification. To do this, we used a brain tumor dataset, available here : https://www.kaggle.com/datasets/sartajbhuvaji/brain-tumor-classification-mri\n",
        "\n",
        "This document presents the results of our best model."
      ],
      "metadata": {
        "id": "IbLfIcQVnI_H"
      }
    },
    {
      "cell_type": "code",
      "execution_count": null,
      "metadata": {
        "id": "wSTYcDjDMD0i"
      },
      "outputs": [],
      "source": [
        "#All imports required for the project\n",
        "import os\n",
        "import matplotlib.pyplot as plt\n",
        "from matplotlib.pyplot import matshow\n",
        "import matplotlib.cm as cm\n",
        "from IPython.display import Image, display\n",
        "import numpy as np\n",
        "import pandas as pd\n",
        "\n",
        "import keras\n",
        "from keras import backend as K\n",
        "from keras.models import Sequential\n",
        "from keras.models import Model\n",
        "from keras.layers import Dense, Dropout, Activation, Flatten, ActivityRegularization, Lambda, Input,GlobalAveragePooling2D\n",
        "from keras.layers import Convolution2D, MaxPooling2D, Conv2D, MaxPooling1D, Conv1D\n",
        "from keras.layers import AveragePooling2D, Input\n",
        "from keras.utils import np_utils\n",
        "from keras.utils import normalize\n",
        "from keras.utils import load_img, img_to_array\n",
        "from keras.callbacks import ReduceLROnPlateau\n",
        "from keras.preprocessing import image\n",
        "\n",
        "from sklearn.utils import shuffle\n",
        "from sklearn.metrics import confusion_matrix\n",
        "from sklearn.preprocessing import LabelEncoder\n",
        "from sklearn.model_selection import train_test_split\n",
        "\n",
        "import tensorflow as tf\n",
        "from tensorflow import keras\n",
        "from tensorflow.keras.preprocessing.image import ImageDataGenerator\n",
        "from tensorflow.keras.applications import EfficientNetV2B3,EfficientNetV2L,ResNet50V2,MobileNetV2\n",
        "from tensorflow.keras.applications.resnet50 import preprocess_input"
      ]
    },
    {
      "cell_type": "code",
      "source": [
        "#For this project, all the images in the dataset were transferred to a drive, so you'll need to do the same for the rest of the project.\n",
        "from google.colab import drive\n",
        "drive.mount('drive')"
      ],
      "metadata": {
        "id": "BzuY2_InMdVl"
      },
      "execution_count": null,
      "outputs": []
    },
    {
      "cell_type": "code",
      "source": [
        "#Access path to test and train folders.\n",
        "train_path = 'drive/MyDrive/brain-tumor-classification-mri/Training'\n",
        "test_path = 'drive/MyDrive/brain-tumor-classification-mri/Testing'"
      ],
      "metadata": {
        "id": "5NMrGQ0CLltU"
      },
      "execution_count": null,
      "outputs": []
    },
    {
      "cell_type": "markdown",
      "source": [
        "<h1>Data set analysis"
      ],
      "metadata": {
        "id": "5rTKKdCKr_uN"
      }
    },
    {
      "cell_type": "code",
      "source": [
        "#We count the number of images per category in each folder.\n",
        "\n",
        "print(\"Train :\")\n",
        "listDir = sorted(os.listdir(train_path))\n",
        "cpt = 0\n",
        "for d in listDir:\n",
        "    listFiles = sorted(os.listdir(train_path+'/'+d))\n",
        "    print(d,\" :\",len(listFiles))\n",
        "    cpt+=len(listFiles)\n",
        "print(\"Total train file :\",cpt)\n",
        "\n",
        "print(\"\\nTest :\")\n",
        "listDir = sorted(os.listdir(test_path))\n",
        "cpt = 0\n",
        "for d in listDir:\n",
        "    listFiles = sorted(os.listdir(test_path+'/'+d))\n",
        "    print(d,\" :\",len(listFiles))\n",
        "    cpt+=len(listFiles)\n",
        "print(\"Total test file :\",cpt)"
      ],
      "metadata": {
        "id": "mGcDIj14MPrS"
      },
      "execution_count": null,
      "outputs": []
    },
    {
      "cell_type": "code",
      "source": [
        "classes = []\n",
        "\n",
        "for sf in os.listdir(train_path):\n",
        "  classes.append(sf)\n",
        "\n",
        "print(classes)"
      ],
      "metadata": {
        "id": "MsS0HlbgBE_6"
      },
      "execution_count": null,
      "outputs": []
    },
    {
      "cell_type": "markdown",
      "source": [
        "<h1> Data pre-processing"
      ],
      "metadata": {
        "id": "K3MetWoIsOZ6"
      }
    },
    {
      "cell_type": "code",
      "source": [
        "X_train = []\n",
        "y_train = []\n",
        "img_size = 150\n",
        "\n",
        "for i in classes:\n",
        "  listFiles = sorted(os.listdir(train_path+'/'+i))\n",
        "  for f in listFiles:\n",
        "        tmp = [0,0,0,0]\n",
        "        tmp[classes.index(i)]=1\n",
        "        img = load_img(train_path+'/'+i+'/'+f)\n",
        "        img = tf.image.resize(img,(img_size,img_size))\n",
        "        x = img_to_array(img)\n",
        "        x = np.expand_dims(x, axis=0)\n",
        "        X_train.append(x[0,:,:,:])\n",
        "        y_train.append(tmp)\n",
        "  listFiles = sorted(os.listdir(test_path+'/'+i))\n",
        "  for f in listFiles:\n",
        "        tmp = [0,0,0,0]\n",
        "        tmp[classes.index(i)]=1\n",
        "        img = load_img(test_path+'/'+i+'/'+f)\n",
        "        img = tf.image.resize(img,(img_size,img_size))\n",
        "        x = img_to_array(img)\n",
        "        x = np.expand_dims(x, axis=0)\n",
        "        X_train.append(x[0,:,:,:])\n",
        "        y_train.append(tmp)\n",
        "\n",
        "X_train = np.array(X_train)\n",
        "y_train = np.array(y_train)"
      ],
      "metadata": {
        "id": "7btpCU1rMS2e"
      },
      "execution_count": null,
      "outputs": []
    },
    {
      "cell_type": "code",
      "source": [
        "X_train, y_train = shuffle(X_train, y_train, random_state=42)"
      ],
      "metadata": {
        "id": "iWrA2LzwsKFl"
      },
      "execution_count": null,
      "outputs": []
    },
    {
      "cell_type": "code",
      "source": [
        "#Data augmentation of our dataset\n",
        "datagen = ImageDataGenerator(\n",
        "    rotation_range=7, #rotate images\n",
        "    width_shift_range=0.05,\n",
        "    height_shift_range=0.05, #shift image in horizontal and vertical\n",
        "    zoom_range=0.1, #zoom images\n",
        "    horizontal_flip=True)\n",
        "\n",
        "datagen.fit(X_train)"
      ],
      "metadata": {
        "id": "HuwXox8FCioh"
      },
      "execution_count": null,
      "outputs": []
    },
    {
      "cell_type": "code",
      "source": [
        "#Dividing our data into trains/tests with 20% for testing\n",
        "X_train,X_test,y_train,y_test = train_test_split(X_train,y_train, test_size=0.2,random_state=42,stratify=y_train)"
      ],
      "metadata": {
        "id": "ma0o4t4yRuzJ"
      },
      "execution_count": null,
      "outputs": []
    },
    {
      "cell_type": "markdown",
      "source": [
        "<h1> Model creation"
      ],
      "metadata": {
        "id": "hG0fz1KCsf7u"
      }
    },
    {
      "cell_type": "code",
      "source": [
        "#importing the pre-trained model\n",
        "base_model = EfficientNetV2B3(weights='imagenet',include_top=False, input_shape=(img_size,img_size,3))"
      ],
      "metadata": {
        "id": "Sp1ZU2zLAicf",
        "colab": {
          "base_uri": "https://localhost:8080/"
        },
        "outputId": "961457d5-ff04-43ae-e3bf-15bbc2cc1bb5"
      },
      "execution_count": null,
      "outputs": [
        {
          "output_type": "stream",
          "name": "stdout",
          "text": [
            "Downloading data from https://storage.googleapis.com/tensorflow/keras-applications/efficientnet_v2/efficientnetv2-b3_notop.h5\n",
            "52606240/52606240 [==============================] - 4s 0us/step\n"
          ]
        }
      ]
    },
    {
      "cell_type": "code",
      "source": [
        "#displays the layers of the imported pre-trained model\n",
        "print(base_model.summary())"
      ],
      "metadata": {
        "id": "iYf2QDVcsoWn"
      },
      "execution_count": null,
      "outputs": []
    },
    {
      "cell_type": "code",
      "source": [
        "#Allows you to freeze or unfreeze the model\n",
        "base_model.trainable = False"
      ],
      "metadata": {
        "id": "DB0CQLIrsw5U"
      },
      "execution_count": null,
      "outputs": []
    },
    {
      "cell_type": "code",
      "source": [
        "#Adding our customized layers\n",
        "med_model = Sequential()\n",
        "med_model.add(base_model)\n",
        "med_model.add(Dense(512,activation='relu'))\n",
        "med_model.add(GlobalAveragePooling2D())\n",
        "med_model.add(Dropout(0.5))\n",
        "med_model.add(Dense(4, activation='softmax'))"
      ],
      "metadata": {
        "id": "8eszIlu1ctxl"
      },
      "execution_count": null,
      "outputs": []
    },
    {
      "cell_type": "code",
      "source": [
        "#Layer of our customized model\n",
        "print(med_model.summary())"
      ],
      "metadata": {
        "id": "xxn5hYsAvDqP"
      },
      "execution_count": null,
      "outputs": []
    },
    {
      "cell_type": "markdown",
      "source": [
        "<h1> Learning"
      ],
      "metadata": {
        "id": "s7BilE2LvKQ5"
      }
    },
    {
      "cell_type": "code",
      "source": [
        "#Custom optimizer with best learning rate found\n",
        "opt = keras.optimizers.Adam(learning_rate=0.0009, beta_1=0.9, beta_2=0.999,epsilon=1e-08)"
      ],
      "metadata": {
        "id": "Ee4DjaRmdLfL"
      },
      "execution_count": null,
      "outputs": []
    },
    {
      "cell_type": "code",
      "source": [
        "#compilation of our model\n",
        "med_model.compile(optimizer=opt,loss='categorical_crossentropy',metrics=['accuracy'])"
      ],
      "metadata": {
        "id": "bTeoNJtCvdm2"
      },
      "execution_count": null,
      "outputs": []
    },
    {
      "cell_type": "code",
      "source": [
        "#Learning rate reduction factor when the model does not improve.\n",
        "reduce_lr1 = ReduceLROnPlateau(monitor = 'val_accuracy', factor = 0.9, patience = 2, min_delta = 0.001,mode='auto',verbose=1)"
      ],
      "metadata": {
        "id": "qbegFPA-NKlS"
      },
      "execution_count": null,
      "outputs": []
    },
    {
      "cell_type": "code",
      "source": [
        "#We start learning our model\n",
        "result = med_model.fit(X_train, y_train, batch_size=32, epochs=100,callbacks = [reduce_lr1], validation_split=0.1, verbose=1)"
      ],
      "metadata": {
        "id": "AnOysIeTvkR8"
      },
      "execution_count": null,
      "outputs": []
    },
    {
      "cell_type": "markdown",
      "source": [
        "<h1> Results analysis"
      ],
      "metadata": {
        "id": "_hQ00Fa3vyQL"
      }
    },
    {
      "cell_type": "markdown",
      "source": [
        "<h2> Evaluating our model"
      ],
      "metadata": {
        "id": "4WC7mL8xwM8O"
      }
    },
    {
      "cell_type": "code",
      "source": [
        "loss,acc = med_model.evaluate(X_test, y_test)"
      ],
      "metadata": {
        "id": "O1rD6PzJmOvT",
        "colab": {
          "base_uri": "https://localhost:8080/"
        },
        "outputId": "947c5930-02f6-4eea-ee29-77a44076065b"
      },
      "execution_count": null,
      "outputs": [
        {
          "output_type": "stream",
          "name": "stdout",
          "text": [
            "21/21 [==============================] - 2s 81ms/step - loss: 0.1652 - accuracy: 0.9786\n",
            "score= 0.16521649062633514\n",
            "accuracy =  0.9785605072975159\n"
          ]
        }
      ]
    },
    {
      "cell_type": "code",
      "source": [
        "print(\"loss =\", loss)\n",
        "print(\"accuracy = \", acc)"
      ],
      "metadata": {
        "id": "cwDxiBzgwZOF"
      },
      "execution_count": null,
      "outputs": []
    },
    {
      "cell_type": "markdown",
      "source": [
        "<h2> Result curve for our model"
      ],
      "metadata": {
        "id": "Um5GzLwtwfQL"
      }
    },
    {
      "cell_type": "code",
      "source": [
        "plt.plot(range(0,100),loss.history['accuracy'],label='accuracy')\n",
        "plt.plot(range(0,100),loss.history['val_accuracy'],label='val_accuracy')\n",
        "plt.legend()\n",
        "plt.title('EfficientNetV2B3')\n",
        "plt.xlabel('nb epochs')\n",
        "plt.ylabel('score')"
      ],
      "metadata": {
        "colab": {
          "base_uri": "https://localhost:8080/",
          "height": 489
        },
        "id": "C1BL6--2FlF7",
        "outputId": "9846aaa6-ffce-435c-e1c2-a2131f80539a"
      },
      "execution_count": null,
      "outputs": [
        {
          "output_type": "execute_result",
          "data": {
            "text/plain": [
              "Text(0, 0.5, 'score')"
            ]
          },
          "metadata": {},
          "execution_count": 16
        },
        {
          "output_type": "display_data",
          "data": {
            "text/plain": [
              "<Figure size 640x480 with 1 Axes>"
            ],
            "image/png": "[encoded data removed]"
          },
          "metadata": {}
        }
      ]
    },
    {
      "cell_type": "markdown",
      "source": [
        "<h3> Confusion matrix of our model"
      ],
      "metadata": {
        "id": "eO-GEkpDwoB6"
      }
    },
    {
      "cell_type": "code",
      "source": [
        "y_pred=med_model.predict(X_test)\n",
        "y_test_arg = np.argmax(y_test, axis=1)\n",
        "y_pred = np.argmax(y_pred,axis=1)\n",
        "print(confusion_matrix(y_test_arg, y_pred))"
      ],
      "metadata": {
        "id": "MhYlEelvR3rd"
      },
      "execution_count": null,
      "outputs": []
    },
    {
      "cell_type": "markdown",
      "source": [
        "<h1> Interpretability"
      ],
      "metadata": {
        "id": "IsT_Z_JHv_JY"
      }
    },
    {
      "cell_type": "code",
      "source": [
        "decode_predictions = keras.applications.efficientnet_v2.decode_predictions\n",
        "#Couche avant celle de résultat à rentrer\n",
        "last_conv_layer_name = \"dense_8\""
      ],
      "metadata": {
        "id": "xAFGydrCE4Rq"
      },
      "execution_count": null,
      "outputs": []
    },
    {
      "cell_type": "code",
      "source": [
        "#Heatmap via gradcam, version given by keras here : https://keras.io/examples/vision/grad_cam/\n",
        "\n",
        "\n",
        "def make_gradcam_heatmap(img_array, model, last_conv_layer_name, pred_index=None):\n",
        "    # First, we create a model that maps the input image to the activations\n",
        "    # of the last conv layer as well as the output predictions\n",
        "    grad_model = tf.keras.models.Model(\n",
        "        [model.inputs], [model.get_layer(last_conv_layer_name).output, model.output]\n",
        "    )\n",
        "\n",
        "    # Then, we compute the gradient of the top predicted class for our input image\n",
        "    # with respect to the activations of the last conv layer\n",
        "    with tf.GradientTape() as tape:\n",
        "        last_conv_layer_output, preds = grad_model(img_array)\n",
        "        if pred_index is None:\n",
        "            pred_index = tf.argmax(preds[0])\n",
        "        class_channel = preds[:, pred_index]\n",
        "\n",
        "    # This is the gradient of the output neuron (top predicted or chosen)\n",
        "    # with regard to the output feature map of the last conv layer\n",
        "    grads = tape.gradient(class_channel, last_conv_layer_output)\n",
        "\n",
        "    # This is a vector where each entry is the mean intensity of the gradient\n",
        "    # over a specific feature map channel\n",
        "    pooled_grads = tf.reduce_mean(grads, axis=(0, 1, 2))\n",
        "\n",
        "    # We multiply each channel in the feature map array\n",
        "    # by \"how important this channel is\" with regard to the top predicted class\n",
        "    # then sum all the channels to obtain the heatmap class activation\n",
        "    last_conv_layer_output = last_conv_layer_output[0]\n",
        "    heatmap = last_conv_layer_output @ pooled_grads[..., tf.newaxis]\n",
        "    heatmap = tf.squeeze(heatmap)\n",
        "\n",
        "    # For visualization purpose, we will also normalize the heatmap between 0 & 1\n",
        "    heatmap = tf.maximum(heatmap, 0) / tf.math.reduce_max(heatmap)\n",
        "    return heatmap.numpy()\n",
        "\n",
        "def get_img_array(img_path, size):\n",
        "    # `img` is a PIL image of size 299x299\n",
        "    img = keras.preprocessing.image.load_img(img_path, target_size=size)\n",
        "    # `array` is a float32 Numpy array of shape (299, 299, 3)\n",
        "    array = keras.preprocessing.image.img_to_array(img)\n",
        "    # We add a dimension to transform our array into a \"batch\"\n",
        "    # of size (1, 299, 299, 3)\n",
        "    array = np.expand_dims(array, axis=0)\n",
        "    return array"
      ],
      "metadata": {
        "id": "rsM9UIbkFN7m"
      },
      "execution_count": null,
      "outputs": []
    },
    {
      "cell_type": "code",
      "source": [
        "glioma_path = \"drive/MyDrive/brain-tumor-classification-mri/Testing/glioma_tumor/image(21).jpg\"\n",
        "preprocess_input = keras.applications.efficientnet_v2.preprocess_input\n",
        "img_array = preprocess_input(get_img_array(glioma_path, size=(img_size,img_size)))\n",
        "\n",
        "img = load_img(glioma_path)\n",
        "img = tf.image.resize(img,(img_size,img_size))\n",
        "x = img_to_array(img)\n",
        "x = np.expand_dims(x, axis=0)\n",
        "\n",
        "print(\"Predicted class : \",np.argmax(med_model.predict(x)))"
      ],
      "metadata": {
        "colab": {
          "base_uri": "https://localhost:8080/"
        },
        "id": "8XSB5JJcQDCU",
        "outputId": "7727cebf-2d15-4d8d-c035-8b4be75be146"
      },
      "execution_count": null,
      "outputs": [
        {
          "output_type": "stream",
          "name": "stdout",
          "text": [
            "1/1 [==============================] - 3s 3s/step\n",
            "0\n"
          ]
        }
      ]
    },
    {
      "cell_type": "code",
      "source": [
        "# Generate class activation heatmap\n",
        "heatmap = make_gradcam_heatmap(img_array, med_model, last_conv_layer_name)\n",
        "\n",
        "# Display heatmap\n",
        "plt.matshow(heatmap)\n",
        "plt.show()"
      ],
      "metadata": {
        "colab": {
          "base_uri": "https://localhost:8080/",
          "height": 437
        },
        "id": "62mXf_ttFXGx",
        "outputId": "e48192a0-6fc8-4de3-8425-026979ab6ba1"
      },
      "execution_count": null,
      "outputs": [
        {
          "output_type": "display_data",
          "data": {
            "text/plain": [
              "<Figure size 480x480 with 1 Axes>"
            ],
            "image/png": "[encoded data removed]"
          },
          "metadata": {}
        }
      ]
    },
    {
      "cell_type": "code",
      "source": [
        "def save_and_display_gradcam(img_path, heatmap, cam_path=\"cam.jpg\", alpha=0.4):\n",
        "    # Load the original image\n",
        "    img = keras.preprocessing.image.load_img(img_path)\n",
        "    img = keras.preprocessing.image.img_to_array(img)\n",
        "\n",
        "    # Rescale heatmap to a range 0-255\n",
        "    heatmap = np.uint8(255 * heatmap)\n",
        "\n",
        "    # Use jet colormap to colorize heatmap\n",
        "    jet = cm.get_cmap(\"jet\")\n",
        "\n",
        "    # Use RGB values of the colormap\n",
        "    jet_colors = jet(np.arange(256))[:, :3]\n",
        "    jet_heatmap = jet_colors[heatmap]\n",
        "\n",
        "    # Create an image with RGB colorized heatmap\n",
        "    jet_heatmap = keras.preprocessing.image.array_to_img(jet_heatmap)\n",
        "    jet_heatmap = jet_heatmap.resize((img.shape[1], img.shape[0]))\n",
        "    jet_heatmap = keras.preprocessing.image.img_to_array(jet_heatmap)\n",
        "\n",
        "    # Superimpose the heatmap on original image\n",
        "    superimposed_img = jet_heatmap * alpha + img\n",
        "    superimposed_img = keras.preprocessing.image.array_to_img(superimposed_img)\n",
        "\n",
        "    # Save the superimposed image\n",
        "    superimposed_img.save(cam_path)\n",
        "\n",
        "    # Display Grad CAM\n",
        "    display(Image(cam_path))\n",
        "\n",
        "\n",
        "save_and_display_gradcam(glioma_path, heatmap)"
      ],
      "metadata": {
        "colab": {
          "base_uri": "https://localhost:8080/",
          "height": 636
        },
        "id": "QvO7L5YLF_Co",
        "outputId": "39e81fc3-a8de-4e58-f0c6-f2c8edd9e05c"
      },
      "execution_count": null,
      "outputs": [
        {
          "output_type": "stream",
          "name": "stderr",
          "text": [
            "<ipython-input-113-2ae84804d58b>:10: MatplotlibDeprecationWarning: The get_cmap function was deprecated in Matplotlib 3.7 and will be removed two minor releases later. Use ``matplotlib.colormaps[name]`` or ``matplotlib.colormaps.get_cmap(obj)`` instead.\n",
            "  jet = cm.get_cmap(\"jet\")\n"
          ]
        },
        {
          "output_type": "display_data",
          "data": {
            "image/jpeg": "[encoded data removed]",
            "text/plain": [
              "<IPython.core.display.Image object>"
            ]
          },
          "metadata": {}
        }
      ]
    }
  ]
}